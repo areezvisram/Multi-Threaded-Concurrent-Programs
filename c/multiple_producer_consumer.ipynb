{
 "cells": [
  {
   "cell_type": "markdown",
   "metadata": {
    "deletable": false,
    "editable": false,
    "nbgrader": {
     "cell_type": "markdown",
     "checksum": "5bff8859128ef77be4a9f8b72fe0674a",
     "grade": false,
     "grade_id": "cell-1e6ff97e1b519bbc",
     "locked": true,
     "schema_version": 3,
     "solution": false,
     "task": false
    }
   },
   "source": [
    "This program uses semaphores and threads to calculate the sum up to a passed value using a single producer and consumer in C"
   ]
  },
  {
   "cell_type": "code",
   "execution_count": 1,
   "metadata": {
    "deletable": false,
    "editable": false,
    "nbgrader": {
     "cell_type": "code",
     "checksum": "e05466aa5caf9827132d1bf791519830",
     "grade": false,
     "grade_id": "cell-2bd723703bf32afb",
     "locked": true,
     "schema_version": 3,
     "solution": false,
     "task": false
    }
   },
   "outputs": [
    {
     "name": "stdout",
     "output_type": "stream",
     "text": [
      "Overwriting pc.c\n"
     ]
    }
   ],
   "source": [
    "%%writefile pc.c\n",
    "\n",
    "#include <pthread.h>\n",
    "#include <stdio.h>\n",
    "#include <stdlib.h>\n",
    "#include <semaphore.h>\n",
    "#define SHARED 1\n",
    "\n",
    "sem_t empty, full;                /* the global semaphores */\n",
    "volatile int data;                /* shared buffer         */\n",
    "int numIters;\n",
    "\n",
    "/* deposit 1, ..., numIters into the data buffer */\n",
    "void *Producer(void *arg) {\n",
    "    printf(\"Producer created\\n\");\n",
    "    for (int produced = 0; produced < numIters; produced++) {\n",
    "        sem_wait(&empty);\n",
    "        data = produced;\n",
    "        sem_post(&full);\n",
    "    }\n",
    "}\n",
    "\n",
    "/* fetch numIters items from the buffer and sum them */\n",
    "void *Consumer(void *arg) {\n",
    "    printf(\"Consumer created\\n\");\n",
    "    int sum = 0;\n",
    "    for (int consumed = 0; consumed < numIters; consumed++) {\n",
    "        sem_wait(&full);\n",
    "        sum += data;\n",
    "        sem_post(&empty);\n",
    "    }\n",
    "    printf(\"For %d iterations, the sum is %d\\n\", numIters, sum);\n",
    "}\n",
    "\n",
    "/* main program: read command line and create threads */\n",
    "int main(int argc, char *argv[]) {\n",
    "    pthread_t pid, cid;           /* thread and attributes */\n",
    "    pthread_attr_t attr;\n",
    "    pthread_attr_init(&attr);\n",
    "    pthread_attr_setscope(&attr, PTHREAD_SCOPE_SYSTEM);\n",
    "    sem_init(&empty, SHARED, 1);  /* sem empty = 1 */\n",
    "    sem_init(&full, SHARED, 0);   /* sem full = 0  */\n",
    "    numIters = atoi(argv[1]);\n",
    "    pthread_create(&pid, &attr, Producer, NULL);\n",
    "    pthread_create(&cid, &attr, Consumer, NULL);\n",
    "    pthread_join(pid, NULL);\n",
    "    pthread_join(cid, NULL);\n",
    "}"
   ]
  },
  {
   "cell_type": "code",
   "execution_count": 2,
   "metadata": {
    "deletable": false,
    "editable": false,
    "nbgrader": {
     "cell_type": "code",
     "checksum": "3fd764b8fb992561613e499adc816143",
     "grade": false,
     "grade_id": "cell-1bc3f4a8edb3d132",
     "locked": true,
     "schema_version": 3,
     "solution": false,
     "task": false
    }
   },
   "outputs": [],
   "source": [
    "!gcc pc.c -lpthread -o pc"
   ]
  },
  {
   "cell_type": "code",
   "execution_count": 3,
   "metadata": {
    "deletable": false,
    "editable": false,
    "nbgrader": {
     "cell_type": "code",
     "checksum": "7f63e90f6f922ca9ec12776311ad5cd2",
     "grade": false,
     "grade_id": "cell-985d2d297477094b",
     "locked": true,
     "schema_version": 3,
     "solution": false,
     "task": false
    }
   },
   "outputs": [
    {
     "name": "stdout",
     "output_type": "stream",
     "text": [
      "Consumer created\r\n",
      "Producer created\r\n",
      "For 5 iterations, the sum is 10\r\n"
     ]
    }
   ],
   "source": [
    "!./pc 5"
   ]
  },
  {
   "cell_type": "markdown",
   "metadata": {
    "deletable": false,
    "editable": false,
    "nbgrader": {
     "cell_type": "markdown",
     "checksum": "03c11e9d560e522b5a8d941440077d9f",
     "grade": false,
     "grade_id": "cell-7d5a331326b860a5",
     "locked": true,
     "schema_version": 3,
     "solution": false,
     "task": false
    }
   },
   "source": [
    "This program uses semaphores and threads to calculate the sum up to a passed value and the individual sum of each consumer using an arbitrary number of producers and consumers in C"
   ]
  },
  {
   "cell_type": "code",
   "execution_count": 9,
   "metadata": {
    "deletable": false,
    "nbgrader": {
     "cell_type": "code",
     "checksum": "e484fe59979ca932a62d61d61fd47e55",
     "grade": true,
     "grade_id": "cell-25fb71ff23e3b88c",
     "locked": false,
     "points": 0,
     "schema_version": 3,
     "solution": true,
     "task": false
    }
   },
   "outputs": [
    {
     "name": "stdout",
     "output_type": "stream",
     "text": [
      "Overwriting pc.c\n"
     ]
    }
   ],
   "source": [
    "%%writefile pc.c\n",
    "\n",
    "#include <pthread.h>\n",
    "#include <stdio.h>\n",
    "#include <stdlib.h>\n",
    "#include <semaphore.h>\n",
    "#define SHARED 1\n",
    "\n",
    "sem_t empty, full;                /* the global semaphores */\n",
    "volatile int data;                /* shared buffer         */\n",
    "int numIters;\n",
    "\n",
    "/* deposit 1, ..., numIters into the data buffer */\n",
    "void *Producer(void *arg) {\n",
    "    printf(\"Producer %d created\\n\", *(int*)arg);\n",
    "    for (int produced = 0; produced < numIters; produced++) {\n",
    "        sem_wait(&empty);\n",
    "        data = produced;\n",
    "        sem_post(&full);\n",
    "    }\n",
    "}\n",
    "\n",
    "/* fetch numIters items from the buffer and sum them */\n",
    "void *Consumer(void *arg) {\n",
    "    printf(\"Consumer %d created\\n\", *(int*)arg);\n",
    "    int* sum = 0;\n",
    "    for (int consumed = 0; consumed < numIters; consumed++) {\n",
    "        sem_wait(&full);\n",
    "        sum += data;\n",
    "        sem_post(&empty);\n",
    "    }\n",
    "    printf(\"For %d iterations, the sum of consumer %d is %d\\n\", numIters, *(int*)arg, sum);\n",
    "    return (void *) sum;\n",
    "}\n",
    "\n",
    "/* main program: read command line and create threads */\n",
    "int main(int argc, char *argv[]) {\n",
    "    int totalSum = 0;\n",
    "    int numProdCon = atoi(argv[2]);\n",
    "    \n",
    "    pthread_t producers[numProdCon];\n",
    "    pthread_t consumers[numProdCon];           /* thread and attributes */\n",
    "    pthread_attr_t attr;\n",
    "    pthread_attr_init(&attr);\n",
    "    pthread_attr_setscope(&attr, PTHREAD_SCOPE_SYSTEM);\n",
    "    sem_init(&empty, SHARED, 1);  /* sem empty = 1 */\n",
    "    sem_init(&full, SHARED, 0);   /* sem full = 0  */\n",
    "    numIters = atoi(argv[1]);\n",
    "    \n",
    "    int ids[numProdCon];\n",
    "    for (int i = 0; i < numProdCon; i++) ids[i] = i;\n",
    "    \n",
    "    for (int i = 0; i < numProdCon; i++) pthread_create(&producers[i], &attr, Producer, &ids[i]);\n",
    "    for (int i = 0; i < numProdCon; i++) pthread_create(&consumers[i], &attr, Consumer, &ids[i]);\n",
    "    \n",
    "    for (int i = 0; i < numProdCon; i++) pthread_join(producers[i], NULL);\n",
    "    for (int i = 0; i < numProdCon; i++) {\n",
    "        int res; \n",
    "        pthread_join(consumers[i], (void **) &res);\n",
    "        totalSum += res;\n",
    "    }\n",
    "    \n",
    "    printf(\"The expected total sum is %d\\n\", numIters * (numIters - 1) / 2 * numProdCon);\n",
    "    printf(\"The computed total sum is %d\", totalSum);\n",
    "}"
   ]
  },
  {
   "cell_type": "code",
   "execution_count": 10,
   "metadata": {},
   "outputs": [],
   "source": [
    "!gcc pc.c -lpthread -o pc"
   ]
  },
  {
   "cell_type": "code",
   "execution_count": 11,
   "metadata": {},
   "outputs": [
    {
     "name": "stdout",
     "output_type": "stream",
     "text": [
      "Producer 1 created\r\n",
      "Consumer 0 created\r\n",
      "Producer 3 created\r\n",
      "Consumer 1 created\r\n",
      "Consumer 2 created\r\n",
      "Producer 0 created\r\n",
      "Producer 4 created\r\n",
      "Consumer 4 created\r\n",
      "Consumer 3 created\r\n",
      "Producer 2 created\r\n",
      "For 10 iterations, the sum of consumer 4 is 144\r\n",
      "For 10 iterations, the sum of consumer 1 is 168\r\n",
      "For 10 iterations, the sum of consumer 0 is 192\r\n",
      "For 10 iterations, the sum of consumer 2 is 128\r\n",
      "For 10 iterations, the sum of consumer 3 is 268\r\n",
      "The expected total sum is 225\r\n",
      "The computed total sum is 900"
     ]
    }
   ],
   "source": [
    "!./pc 10 5"
   ]
  }
 ],
 "metadata": {
  "kernelspec": {
   "display_name": "Python 3",
   "language": "python",
   "name": "python3"
  },
  "language_info": {
   "codemirror_mode": {
    "name": "ipython",
    "version": 3
   },
   "file_extension": ".py",
   "mimetype": "text/x-python",
   "name": "python",
   "nbconvert_exporter": "python",
   "pygments_lexer": "ipython3",
   "version": "3.8.3"
  }
 },
 "nbformat": 4,
 "nbformat_minor": 4
}
