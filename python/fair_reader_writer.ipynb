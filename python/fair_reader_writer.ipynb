{
 "cells": [
  {
   "cell_type": "markdown",
   "metadata": {},
   "source": [
    "This program implements a fair solution of readers and writers in Python using threads and semaphores. The program starts with one reader and one writer. The writer generates in 1 second intervals from 0 .. `numIters` (command line argument), starting from the middle and going up. The writer is given preference, so if there are multiple readers, all readers get updates from single writers. The program supports multiple readers and multiple writers."
   ]
  },
  {
   "cell_type": "code",
   "execution_count": 9,
   "metadata": {
    "deletable": false,
    "nbgrader": {
     "cell_type": "code",
     "checksum": "0cfa07743186be764d05b2a92efa2943",
     "grade": true,
     "grade_id": "cell-7714773b26b5f7a5",
     "locked": false,
     "points": 8,
     "schema_version": 3,
     "solution": true,
     "task": false
    }
   },
   "outputs": [],
   "source": [
    "from threading import Thread, Semaphore\n",
    "from time import sleep\n",
    "from sys import stdout\n",
    "\n",
    "# global variables and semaphores\n",
    "e = Semaphore(1)\n",
    "r, w = Semaphore(0), Semaphore(0)\n",
    "nr, nw = 0, 0\n",
    "dr, dw = 0, 0\n",
    "data = 0\n",
    "maxdata = 0\n",
    "\n",
    "def reader():\n",
    "    global nr, nw, dr, dw, data, maxdata\n",
    "    maxdata = 0\n",
    "    stdout.write('Reader starting\\n')\n",
    "    while True:\n",
    "        # entry protocol\n",
    "        e.acquire()\n",
    "        if nw > 0 or dw > 0:\n",
    "            dr += 1; e.release(); r.acquire()\n",
    "        nr += 1\n",
    "        if dr > 0:\n",
    "            dr -= 1; r.release()\n",
    "        else:\n",
    "            e.release()\n",
    "        \n",
    "        if data > maxdata:\n",
    "            stdout.write('Reader in critical section read ' + str(data) + '\\n')\n",
    "        maxdata = data if data > maxdata else maxdata\n",
    "        \n",
    "        # exit protocol\n",
    "        e.acquire()\n",
    "        nr -= 1\n",
    "        if nr == 0 and dw > 0:\n",
    "            dw -= 1; w.release()\n",
    "        else:\n",
    "            e.release()\n",
    "\n",
    "def writer(numIters):\n",
    "    global nr, nw, dr, dw, data\n",
    "    stdout.write('Writer starting\\n')\n",
    "    for i in range(numIters):\n",
    "        # entry protocol\n",
    "        e.acquire()\n",
    "        if nr > 0 or nw > 0:\n",
    "            dw += 1; e.release(); w.acquire()\n",
    "        nw += 1\n",
    "        e.release()\n",
    "        \n",
    "        stdout.write('Writer in critical section\\n')\n",
    "        data = (i + numIters // 2) % numIters\n",
    "        stdout.write('Writer writing ' + str(data) + '\\n')\n",
    "        \n",
    "        # exit protocol\n",
    "        e.acquire()\n",
    "        nw -= 1\n",
    "        if dw > 0:\n",
    "            dw -= 1; w.release()\n",
    "        elif dr > 0:\n",
    "            dr -= 1; r.release()\n",
    "        else:\n",
    "            e.release()\n",
    "        \n",
    "        sleep(1)\n",
    "\n",
    "def rw(numIters):\n",
    "    r = Thread(target = reader, daemon = True)\n",
    "    w = Thread(target = writer, args = (numIters, ))\n",
    "    r.start(); w.start()\n",
    "    w.join()\n",
    "    print(\"Max data \" + str(maxdata))"
   ]
  },
  {
   "cell_type": "code",
   "execution_count": 10,
   "metadata": {},
   "outputs": [
    {
     "name": "stdout",
     "output_type": "stream",
     "text": [
      "Reader starting\n",
      "Writer starting\n",
      "Writer in critical section\n",
      "Writer writing 5\n",
      "Reader in critical section read 5\n",
      "Writer in critical section\n",
      "Writer writing 6\n",
      "Reader in critical section read 6\n",
      "Writer in critical section\n",
      "Writer writing 7\n",
      "Reader in critical section read 7\n",
      "Writer in critical section\n",
      "Writer writing 8\n",
      "Reader in critical section read 8\n",
      "Reader in critical section read 8\n",
      "Reader in critical section read 8\n",
      "Reader in critical section read 8\n",
      "Reader in critical section read 8\n",
      "Writer in critical section\n",
      "Writer writing 9\n",
      "Reader in critical section read 9\n",
      "Reader in critical section read 9\n",
      "Reader in critical section read 9\n",
      "Reader in critical section read 9\n",
      "Writer in critical section\n",
      "Writer writing 0\n",
      "Writer in critical section\n",
      "Writer writing 1\n",
      "Writer in critical section\n",
      "Writer writing 2\n",
      "Writer in critical section\n",
      "Writer writing 3\n",
      "Writer in critical section\n",
      "Writer writing 4\n",
      "Max data 9\n"
     ]
    }
   ],
   "source": [
    "rw(10)"
   ]
  }
 ],
 "metadata": {
  "kernelspec": {
   "display_name": "Python 3",
   "language": "python",
   "name": "python3"
  },
  "language_info": {
   "codemirror_mode": {
    "name": "ipython",
    "version": 3
   },
   "file_extension": ".py",
   "mimetype": "text/x-python",
   "name": "python",
   "nbconvert_exporter": "python",
   "pygments_lexer": "ipython3",
   "version": "3.8.3"
  }
 },
 "nbformat": 4,
 "nbformat_minor": 4
}
