{
 "cells": [
  {
   "cell_type": "markdown",
   "metadata": {},
   "source": [
    "The Go program below concurrently calculates the Fibonacci numbers up to 19 and ensures they are correct. The program uses message passing to assign the value once it has been calculated and all 19 values are calculated at the same time."
   ]
  },
  {
   "cell_type": "code",
   "execution_count": 20,
   "metadata": {},
   "outputs": [],
   "source": [
    "import(\"reflect\")\n",
    "\n",
    "const N = 20\n",
    "\n",
    "type IntPair = struct {i int; f int}\n",
    "\n",
    "var r chan IntPair\n",
    "var c[N] chan int\n",
    "\n",
    "func fib(i int) {\n",
    "    var f int\n",
    "    if i == 0 {\n",
    "        f = 0\n",
    "    } else if i > 0 && i < N - 2 {\n",
    "        if i == 1 {\n",
    "            f = 1\n",
    "        } else {\n",
    "            f = <- c[i - 1] + <- c[i - 2]\n",
    "        }\n",
    "        c[i] <- f\n",
    "    } else if i == N - 2 {\n",
    "        f = <- c[i - 1] + <- c[i - 2]\n",
    "    }\n",
    "    if i == N - 1 {\n",
    "        f = <- c[i - 1] + <- c[i - 2]\n",
    "    } else {\n",
    "        c[i] <- f\n",
    "    }\n",
    "    r <- IntPair{i, f}\n",
    "}\n",
    "\n",
    "func main() {\n",
    "    m := make(map[int]int)\n",
    "    r = make(chan IntPair)\n",
    "    for i := 0; i < N; i++ {c[i] = make(chan int)}\n",
    "    for i := 0; i < N; i++ {go fib(i)}\n",
    "    for i := 0; i < N; i++ {p := <- r; m[p.i] = p.f}\n",
    "    e := map[int]int{0:0, 1:1, 2:1, 3:2, 4:3, 5:5, 6:8, 7:13, 8:21, 9:34, 10:55, 11:89,\n",
    "                     12:144, 13:233, 14:377, 15:610, 16:987, 17:1597, 18:2584, 19:4181}\n",
    "    fmt.Println(\"computed and expected Fibonacci numbers are the same: \", reflect.DeepEqual(m, e))\n",
    "}"
   ]
  },
  {
   "cell_type": "code",
   "execution_count": 21,
   "metadata": {},
   "outputs": [
    {
     "name": "stdout",
     "output_type": "stream",
     "text": [
      "computed and expected Fibonacci numbers are the same:  true\n"
     ]
    }
   ],
   "source": [
    "main()"
   ]
  }
 ],
 "metadata": {
  "kernelspec": {
   "display_name": "Go (lgo)",
   "language": "go",
   "name": "lgo"
  },
  "language_info": {
   "file_extension": "",
   "mimetype": "",
   "name": "go",
   "version": ""
  }
 },
 "nbformat": 4,
 "nbformat_minor": 2
}
