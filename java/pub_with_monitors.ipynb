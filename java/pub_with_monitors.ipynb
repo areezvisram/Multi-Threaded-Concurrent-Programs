{
 "cells": [
  {
   "cell_type": "markdown",
   "metadata": {
    "deletable": false,
    "editable": false,
    "nbgrader": {
     "cell_type": "markdown",
     "checksum": "3bb99ee8c99d4874eb07a980a8506cde",
     "grade": false,
     "grade_id": "cell-da6a33ed04769689",
     "locked": true,
     "schema_version": 3,
     "solution": false,
     "task": false
    }
   },
   "source": [
    "### These Java programs simulate the running of a Pub using threads and monitors"
   ]
  },
  {
   "cell_type": "markdown",
   "metadata": {},
   "source": [
    "Explanation of problem: All villagers enter a pub at some point in the day and stay for some time. The pub manager closes the pub at a specific time. Not all villagers can fit in the pub, so if they arrive and there is space, they can enter, if it is full they have to wait until they can enter or the pub closes. Villagers can finish their meal if they are in the pub when it closes.\n",
    "\n",
    "🙂 - entered pub\n",
    "😋 - ate and ready to leave\n",
    "🙁 - turned down\n",
    "🔒 - pub is closed"
   ]
  },
  {
   "cell_type": "code",
   "execution_count": 19,
   "metadata": {
    "deletable": false,
    "nbgrader": {
     "cell_type": "code",
     "checksum": "836a689ee157d12dc1e73c6cc0b3473f",
     "grade": true,
     "grade_id": "cell-0930921e877bccc6",
     "locked": false,
     "points": 6,
     "schema_version": 3,
     "solution": true,
     "task": false
    }
   },
   "outputs": [
    {
     "name": "stdout",
     "output_type": "stream",
     "text": [
      "Overwriting village.java\n"
     ]
    }
   ],
   "source": [
    "%%writefile village.java\n",
    "class Pub {\n",
    "    // YOUR CODE HERE\n",
    "    int capacity, current_capacity = 0;\n",
    "    boolean closed = false;\n",
    "    \n",
    "    // Class Invariant: (closed ∨ ¬closed) ∧ 0 ≤ current_capacity ≤ capacity\n",
    "    Pub(int capacity) {\n",
    "        // Precondition: capacity > 0\n",
    "        this.capacity = capacity;\n",
    "    }\n",
    "    \n",
    "    // Precondition: 0 ≤ current_capacity ≤ capacity ∧ ¬closed\n",
    "    synchronized boolean enter () {\n",
    "        while (current_capacity >= capacity && !closed) {\n",
    "            try {wait();} catch (InterruptedException e) {}\n",
    "        }\n",
    "        if (closed) {return false;}\n",
    "        current_capacity++;\n",
    "        return true;\n",
    "    }\n",
    "    \n",
    "    // Precondition: current_capacity > 0\n",
    "    synchronized void exit () {\n",
    "        if (current_capacity > 0) {\n",
    "            current_capacity--;\n",
    "            notify();\n",
    "        }\n",
    "    }\n",
    "    \n",
    "    // Precondition: closed = false\n",
    "    synchronized void closing () {\n",
    "        closed = true;\n",
    "        notifyAll();\n",
    "    }\n",
    "}\n",
    "class Villager extends Thread {\n",
    "    Pub p;\n",
    "    Villager(Pub p) {\n",
    "        this.p = p;\n",
    "    }\n",
    "    public void run() {\n",
    "        try {Thread.sleep((long)(Math.random() * 6000));\n",
    "        } catch (Exception e) {}\n",
    "        if (p.enter()) {\n",
    "            System.out.print(\"🙂\"); // entered pub\n",
    "            try {Thread.sleep((long)(Math.random() * 1000)); // eating\n",
    "            } catch (Exception e) {}\n",
    "            System.out.print(\"😋\"); // full and happy\n",
    "            p.exit();\n",
    "        } else System.out.print(\"🙁\"); // turned down\n",
    "    }\n",
    "}\n",
    "class Manager extends Thread {\n",
    "    Pub p;\n",
    "    Manager(Pub p) {\n",
    "        this.p = p;\n",
    "    }\n",
    "    public void run() {\n",
    "        try {Thread.sleep(4000);\n",
    "        } catch (Exception e) {}\n",
    "        System.out.print(\"🔒\");\n",
    "        p.closing();\n",
    "    }\n",
    "}\n",
    "class Village {\n",
    "    public static void main(String[] args) {\n",
    "        Pub p = new Pub(8); // capacity 8\n",
    "        new Manager(p).start();\n",
    "        for (int i = 0; i < 20; i++) new Villager(p).start();\n",
    "    }\n",
    "}"
   ]
  },
  {
   "cell_type": "code",
   "execution_count": 4,
   "metadata": {},
   "outputs": [],
   "source": [
    "!javac village.java"
   ]
  },
  {
   "cell_type": "code",
   "execution_count": 5,
   "metadata": {},
   "outputs": [
    {
     "name": "stdout",
     "output_type": "stream",
     "text": [
      "🙂🙂😋😋🙂😋🙂🙂🙂😋😋🙂🙂🙂🙂😋😋🙂🙂😋🙂🔒😋😋😋😋🙁😋🙁🙁🙁🙁🙁🙁"
     ]
    }
   ],
   "source": [
    "!java Village"
   ]
  },
  {
   "cell_type": "markdown",
   "metadata": {
    "deletable": false,
    "editable": false,
    "nbgrader": {
     "cell_type": "markdown",
     "checksum": "a24452405d9df8f4c01fdee7d58e6745",
     "grade": false,
     "grade_id": "cell-0a541ed3f3105748",
     "locked": true,
     "schema_version": 3,
     "solution": false,
     "task": false
    }
   },
   "source": [
    "Explanation of problem: Same as above but when pub closes, all patrons must leave even if they're still eating."
   ]
  },
  {
   "cell_type": "code",
   "execution_count": 32,
   "metadata": {
    "deletable": false,
    "nbgrader": {
     "cell_type": "code",
     "checksum": "ed8da678bd5b565050eeef7bac7c4e61",
     "grade": true,
     "grade_id": "cell-ff43bac2f37ad55e",
     "locked": false,
     "points": 0,
     "schema_version": 3,
     "solution": true,
     "task": false
    }
   },
   "outputs": [
    {
     "name": "stdout",
     "output_type": "stream",
     "text": [
      "Overwriting village.java\n"
     ]
    }
   ],
   "source": [
    "%%writefile village.java\n",
    "class Pub {\n",
    "    // YOUR CODE HERE\n",
    "    int capacity, current_capacity = 0;\n",
    "    boolean closed = false;\n",
    "    \n",
    "    // Class Invariant: (closed ∨ ¬closed) ∧ 0 ≤ current_capacity ≤ capacity\n",
    "    Pub(int capacity) {\n",
    "        // Precondition: capacity > 0\n",
    "        this.capacity = capacity;\n",
    "    }\n",
    "    \n",
    "    // Precondition: 0 ≤ current_capacity ≤ capacity ∧ ¬closed\n",
    "    synchronized boolean enter (Villager villager) {\n",
    "        while (current_capacity >= capacity && !closed) {\n",
    "            try {wait();} catch (InterruptedException e) {}\n",
    "        }\n",
    "        if (closed) {\n",
    "            villager.interrupt();\n",
    "            return false;\n",
    "        }\n",
    "        current_capacity++;\n",
    "        return true;\n",
    "    }\n",
    "    \n",
    "    // Precondition: current_capacity > 0\n",
    "    synchronized void exit () {\n",
    "        if (current_capacity > 0) {\n",
    "            current_capacity--;\n",
    "            notify();\n",
    "        }\n",
    "    }\n",
    "    \n",
    "    // Precondition: closed = false\n",
    "    synchronized void closing () {\n",
    "        closed = true;\n",
    "        notifyAll();\n",
    "    }\n",
    "}\n",
    "class Villager extends Thread {\n",
    "    Pub p;\n",
    "    Villager(Pub p) {\n",
    "        this.p = p;\n",
    "    }\n",
    "    public void run() {\n",
    "        try {Thread.sleep((long)(Math.random() * 6000));\n",
    "        } catch (Exception e) {}\n",
    "        if (p.enter(this)) {\n",
    "            System.out.print(\"🙂\"); // entered pub\n",
    "            try {Thread.sleep((long)(Math.random() * 1000));\n",
    "            } catch (Exception e) {System.out.print(\"😞\"); return;}\n",
    "            System.out.print(\"😋\"); // full and happy\n",
    "            p.exit();\n",
    "        } else System.out.print(\"🙁\"); // turned down\n",
    "    }\n",
    "}\n",
    "class Manager extends Thread {\n",
    "    Pub p;\n",
    "    Manager(Pub p) {\n",
    "        this.p = p;\n",
    "    }\n",
    "    public void run() {\n",
    "        try {Thread.sleep(4000);\n",
    "        } catch (Exception e) {}\n",
    "        System.out.print(\"🔒\");\n",
    "        p.closing();\n",
    "    }\n",
    "}\n",
    "class Village {\n",
    "    public static void main(String[] args) {\n",
    "        Pub p = new Pub(8); // capacity 8\n",
    "        new Manager(p).start();\n",
    "        for (int i = 0; i < 20; i++) new Villager(p).start();\n",
    "    }\n",
    "}"
   ]
  },
  {
   "cell_type": "code",
   "execution_count": 33,
   "metadata": {},
   "outputs": [],
   "source": [
    "!javac village.java"
   ]
  },
  {
   "cell_type": "code",
   "execution_count": 34,
   "metadata": {},
   "outputs": [
    {
     "name": "stdout",
     "output_type": "stream",
     "text": [
      "🙂🙂😋😋🙂😋🙂🙂😋🙂😋🙂🙂🙂😋😋😋🙂🙂🙂😋😋😋🙂😋🙂🔒😋😋🙁🙁🙁🙁🙁🙁"
     ]
    }
   ],
   "source": [
    "!java Village"
   ]
  }
 ],
 "metadata": {
  "kernelspec": {
   "display_name": "Python 3",
   "language": "python",
   "name": "python3"
  },
  "language_info": {
   "codemirror_mode": {
    "name": "ipython",
    "version": 3
   },
   "file_extension": ".py",
   "mimetype": "text/x-python",
   "name": "python",
   "nbconvert_exporter": "python",
   "pygments_lexer": "ipython3",
   "version": "3.8.3"
  }
 },
 "nbformat": 4,
 "nbformat_minor": 2
}
