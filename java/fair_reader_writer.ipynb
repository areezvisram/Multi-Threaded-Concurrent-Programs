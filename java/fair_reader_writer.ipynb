{
 "cells": [
  {
   "cell_type": "markdown",
   "metadata": {
    "deletable": false,
    "editable": false,
    "nbgrader": {
     "cell_type": "markdown",
     "checksum": "3d35fa15d9348cd3687c48bda0e29215",
     "grade": false,
     "grade_id": "cell-623ae71aff57029a",
     "locked": true,
     "schema_version": 3,
     "solution": false,
     "task": false
    }
   },
   "source": [
    "This program implements a fair solution of readers and writers in Java using threads and semaphores. The program starts with one reader and one writer. The writer generates in 1 second intervals from 0 .. `numIters` (command line argument), starting from the middle and going up. The writer is given preference, so if there are multiple readers, all readers get updates from single writers. The program supports multiple readers and multiple writers."
   ]
  },
  {
   "cell_type": "code",
   "execution_count": 2,
   "metadata": {
    "deletable": false,
    "nbgrader": {
     "cell_type": "code",
     "checksum": "3c779b6b05b776c7c0c6218743d5d2f3",
     "grade": true,
     "grade_id": "cell-7714773b26b5f7a5",
     "locked": false,
     "points": 8,
     "schema_version": 3,
     "solution": true,
     "task": false
    }
   },
   "outputs": [
    {
     "name": "stdout",
     "output_type": "stream",
     "text": [
      "Overwriting ReaderWriter.java\n"
     ]
    }
   ],
   "source": [
    "%%writefile ReaderWriter.java\n",
    "import java.util.concurrent.Semaphore;\n",
    "import java.lang.String;\n",
    "\n",
    "public class ReaderWriter {\n",
    "    /* global variables and semaphores */\n",
    "    public static Semaphore e = new Semaphore(1), r = new Semaphore(0), w = new Semaphore(0);\n",
    "    public static volatile int nr = 0, nw = 0, dr = 0, dw = 0;\n",
    "    public static volatile int data = 0, maxdata = 0;\n",
    "    public static int numIters = 0;\n",
    "\n",
    "    static void reader() {\n",
    "        maxdata = 0;\n",
    "        System.out.println(\"Reader starting\");\n",
    "        while (true) {\n",
    "            /* entry protocol */\n",
    "            try {e.acquire();} catch(Exception e) {}\n",
    "            if (nw > 0 || dw > 0) {\n",
    "                dr += 1; e.release(); \n",
    "                try {r.acquire();} catch(Exception e) {}\n",
    "            }\n",
    "            nr += 1;\n",
    "            if (dr > 0) {\n",
    "                dr -= 1; r.release();\n",
    "            } else {\n",
    "                e.release();\n",
    "            }\n",
    "            \n",
    "            if (data > maxdata) System.out.printf(\"Reader in critical section read %d\\n\", data);\n",
    "            maxdata = data > maxdata ? data : maxdata;\n",
    "            \n",
    "            /* exit protocol */\n",
    "            try {e.acquire();} catch(Exception e) {}\n",
    "            nr -= 1;\n",
    "            if (nr == 0 && dw > 0) {\n",
    "                dw -= 1; w.release();\n",
    "            } else {\n",
    "                e.release();\n",
    "            }\n",
    "        }\n",
    "    }\n",
    "\n",
    "    static void writer() {\n",
    "        System.out.printf(\"Writer starting\\n\");\n",
    "        for (int i = 0; i < numIters; i++) {\n",
    "            /* entry protocol */    \n",
    "            try {e.acquire();} catch(Exception e) {}\n",
    "            if (nr > 0 || nw > 0) {\n",
    "                dw += 1; e.release(); \n",
    "                try {w.acquire();} catch(Exception e) {}\n",
    "            }\n",
    "            nw += 1;\n",
    "            e.release();\n",
    "            \n",
    "            System.out.printf(\"Writer in critical section\\n\");\n",
    "            data = (i + numIters / 2) % numIters;\n",
    "            System.out.printf(\"Writer writing %d\\n\", data);\n",
    "            \n",
    "            /* exit protocol */\n",
    "            try {e.acquire();} catch(Exception e) {}\n",
    "            nw -= 1;\n",
    "            if (dw > 0) {\n",
    "                dw -= 1; w.release();\n",
    "            } else if (dr > 0) {\n",
    "                dr -= 1; r.release();\n",
    "            } else {\n",
    "                e.release();\n",
    "            }\n",
    "            \n",
    "            try {Thread.sleep(1000);} catch (Exception e) {}; // sleep 1 sec\n",
    "        }\n",
    "    }\n",
    "    public static void main(String args[]) {\n",
    "        numIters = Integer.parseInt(args[0]);\n",
    "        Thread r = new Thread() {{setDaemon(true);} public void run() {reader();}};\n",
    "        Thread w = new Thread() {public void run() {writer();}};\n",
    "\n",
    "        r.start(); w.start();\n",
    "        try {w.join();} catch (Exception e) {}\n",
    "        System.out.printf(\"Max data %d\\n\", maxdata);       \n",
    "    }\n",
    "}"
   ]
  },
  {
   "cell_type": "code",
   "execution_count": 3,
   "metadata": {
    "deletable": false,
    "editable": false,
    "nbgrader": {
     "cell_type": "code",
     "checksum": "e59ff3369e76dad5f155577f3c4be072",
     "grade": false,
     "grade_id": "cell-584b9c5f797cefc2",
     "locked": true,
     "schema_version": 3,
     "solution": false,
     "task": false
    }
   },
   "outputs": [],
   "source": [
    "!javac ReaderWriter.java"
   ]
  },
  {
   "cell_type": "code",
   "execution_count": 4,
   "metadata": {
    "deletable": false,
    "editable": false,
    "nbgrader": {
     "cell_type": "code",
     "checksum": "30fcc035a612e8ba71323a21947312a3",
     "grade": false,
     "grade_id": "cell-f8e592d75d2f516d",
     "locked": true,
     "schema_version": 3,
     "solution": false,
     "task": false
    }
   },
   "outputs": [
    {
     "name": "stdout",
     "output_type": "stream",
     "text": [
      "Writer starting\n",
      "Reader starting\n",
      "Writer in critical section\n",
      "Writer writing 2\n",
      "Reader in critical section read 2\n",
      "Writer in critical section\n",
      "Writer writing 3\n",
      "Reader in critical section read 3\n",
      "Writer in critical section\n",
      "Writer writing 4\n",
      "Reader in critical section read 4\n",
      "Writer in critical section\n",
      "Writer writing 0\n",
      "Writer in critical section\n",
      "Writer writing 1\n",
      "Max data 4\n"
     ]
    }
   ],
   "source": [
    "!java ReaderWriter 5"
   ]
  },
  {
   "cell_type": "code",
   "execution_count": 5,
   "metadata": {},
   "outputs": [
    {
     "name": "stdout",
     "output_type": "stream",
     "text": [
      "Writer starting\n",
      "Writer in critical section\n",
      "Writer writing 5\n",
      "Reader starting\n",
      "Reader in critical section read 5\n",
      "Writer in critical section\n",
      "Writer writing 6\n",
      "Reader in critical section read 6\n",
      "Writer in critical section\n",
      "Writer writing 7\n",
      "Reader in critical section read 7\n",
      "Writer in critical section\n",
      "Writer writing 8\n",
      "Reader in critical section read 8\n",
      "Writer in critical section\n",
      "Writer writing 9\n",
      "Reader in critical section read 9\n",
      "Writer in critical section\n",
      "Writer writing 0\n",
      "Writer in critical section\n",
      "Writer writing 1\n",
      "Writer in critical section\n",
      "Writer writing 2\n",
      "Writer in critical section\n",
      "Writer writing 3\n",
      "Writer in critical section\n",
      "Writer writing 4\n",
      "Max data 9\n"
     ]
    }
   ],
   "source": [
    "!java ReaderWriter 10"
   ]
  }
 ],
 "metadata": {
  "kernelspec": {
   "display_name": "Python 3",
   "language": "python",
   "name": "python3"
  },
  "language_info": {
   "codemirror_mode": {
    "name": "ipython",
    "version": 3
   },
   "file_extension": ".py",
   "mimetype": "text/x-python",
   "name": "python",
   "nbconvert_exporter": "python",
   "pygments_lexer": "ipython3",
   "version": "3.8.3"
  }
 },
 "nbformat": 4,
 "nbformat_minor": 4
}
