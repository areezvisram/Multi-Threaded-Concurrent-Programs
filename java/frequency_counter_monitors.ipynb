{
 "cells": [
  {
   "cell_type": "markdown",
   "metadata": {},
   "source": [
    "This program implements a thread-safe Java program that counts the number of occurrences of events numbered from 0 to some max. Multiple threads can call count and frequency simultaneously. The solution is implemented as a monitor such that only one thread can enter count."
   ]
  },
  {
   "cell_type": "code",
   "execution_count": 1,
   "metadata": {
    "deletable": false,
    "nbgrader": {
     "cell_type": "code",
     "checksum": "3585088ef68d21c6fc25112f6f761e0f",
     "grade": true,
     "grade_id": "cell-9ecdea95780c834b",
     "locked": false,
     "points": 2,
     "schema_version": 3,
     "solution": true,
     "task": false
    }
   },
   "outputs": [
    {
     "name": "stdout",
     "output_type": "stream",
     "text": [
      "Overwriting frequencycounter.java\n"
     ]
    }
   ],
   "source": [
    "%%writefile frequencycounter.java\n",
    "import java.util.Random;\n",
    "class FrequencyCounter {\n",
    "    int[] occurences;\n",
    "    \n",
    "    // Class Invariant: ∀ i ∈ 0 ... max - 1 | occurences[i] ≥ 0\n",
    "    FrequencyCounter(int max) {\n",
    "        // Create a frequency counter for events numbered 0 to max - 1.\n",
    "        // Precondition: max > 0\n",
    "        this.occurences = new int[max];\n",
    "    }\n",
    "    \n",
    "    // Precondition: 0 ≤ event ≤ max - 1\n",
    "    void count(int event) {\n",
    "        // Increment the frequency of event by 1.\n",
    "        synchronized (this) {occurences[event]++;}\n",
    "    }\n",
    "    \n",
    "    // Precondition: 0 ≤ event ≤ max - 1\n",
    "    int frequency(int event) {\n",
    "        // Return the frequency of event since creation.\n",
    "        synchronized (this) {return occurences[event];}\n",
    "    }\n",
    "}\n",
    "class Eventer extends Thread {\n",
    "    FrequencyCounter fc;\n",
    "    Eventer(FrequencyCounter fc) {\n",
    "        this.fc = fc;\n",
    "    }\n",
    "    public void run() {\n",
    "        Random r = new Random();\n",
    "        for (int i = 0; i < 20000; i++) {\n",
    "            fc.count(r.nextInt(10));\n",
    "        }\n",
    "    }\n",
    "}\n",
    "class TestFrequencyCounter {\n",
    "    public static void main(String[] args) {\n",
    "        FrequencyCounter fc = new FrequencyCounter(10);\n",
    "        Eventer ev[] = new Eventer[1000];\n",
    "        for (int i = 0; i < 1000; i++) ev[i] = new Eventer(fc);\n",
    "        long startTime = System.currentTimeMillis();\n",
    "        for (int i = 0; i < 1000; i++) ev[i].start();\n",
    "        for (int i = 0; i < 1000; i++) {\n",
    "            try {ev[i].join();} catch (Exception e) {}\n",
    "        }\n",
    "        long endTime = System.currentTimeMillis();\n",
    "        System.out.println(endTime - startTime);\n",
    "    }\n",
    "}"
   ]
  },
  {
   "cell_type": "code",
   "execution_count": 2,
   "metadata": {},
   "outputs": [],
   "source": [
    "!javac frequencycounter.java"
   ]
  },
  {
   "cell_type": "code",
   "execution_count": 3,
   "metadata": {},
   "outputs": [
    {
     "name": "stdout",
     "output_type": "stream",
     "text": [
      "7511\r\n"
     ]
    }
   ],
   "source": [
    "!java TestFrequencyCounter"
   ]
  },
  {
   "cell_type": "markdown",
   "metadata": {
    "deletable": false,
    "editable": false,
    "nbgrader": {
     "cell_type": "markdown",
     "checksum": "72bfa3016ae28e2ab21e46b0a3fbbefe",
     "grade": false,
     "grade_id": "cell-e7ac213b235ecf7c",
     "locked": true,
     "schema_version": 3,
     "solution": false,
     "task": false
    }
   },
   "source": [
    "This program implements the `FrequencyCounter` as above in the same way except it is more efficient in that it allows for concurrent updates to different events. "
   ]
  },
  {
   "cell_type": "code",
   "execution_count": 4,
   "metadata": {
    "deletable": false,
    "nbgrader": {
     "cell_type": "code",
     "checksum": "892de3ec74df5be923c9439ec915c2fd",
     "grade": true,
     "grade_id": "cell-c157c56cdd6ff749",
     "locked": false,
     "points": 2,
     "schema_version": 3,
     "solution": true,
     "task": false
    }
   },
   "outputs": [
    {
     "name": "stdout",
     "output_type": "stream",
     "text": [
      "Overwriting highfrequencycounter.java\n"
     ]
    }
   ],
   "source": [
    "%%writefile highfrequencycounter.java\n",
    "import java.util.Random;\n",
    "class HighFrequencyCounter extends FrequencyCounter {\n",
    "    int[] occurences;\n",
    "    Object[] eventLocks;\n",
    "    \n",
    "    // Class Invariant: ∀ i ∈ 0 ... max - 1 | occurences[i] ≥ 0\n",
    "    HighFrequencyCounter(int max) {\n",
    "        // Precondition: max > 0\n",
    "        super(max);\n",
    "        this.occurences = new int[max];\n",
    "        this.eventLocks = new Object[max];\n",
    "        for (int i = 0; i < max; i++) {this.eventLocks[i] = new Object();}\n",
    "    }\n",
    "    \n",
    "    // Precondition: 0 ≤ event ≤ max - 1\n",
    "    void count(int event) {\n",
    "        synchronized (eventLocks[event]) {this.occurences[event]++;}\n",
    "    }\n",
    "}\n",
    "class HEventer extends Thread {\n",
    "    HighFrequencyCounter hfc;\n",
    "    HEventer(HighFrequencyCounter hfc) {\n",
    "        this.hfc = hfc;\n",
    "    }\n",
    "    public void run() {\n",
    "        Random r = new Random();\n",
    "        for (int i = 0; i < 20000; i++) {\n",
    "            hfc.count(r.nextInt(10));\n",
    "        }\n",
    "    }\n",
    "}\n",
    "class TestHighFrequencyCounter {\n",
    "    public static void main(String[] args) {\n",
    "        HighFrequencyCounter hfc = new HighFrequencyCounter(10);\n",
    "        HEventer hev[] = new HEventer[1000];\n",
    "        for (int i = 0; i < 1000; i++) hev[i] = new HEventer(hfc);\n",
    "        long hstartTime = System.currentTimeMillis();\n",
    "        for (int i = 0; i < 1000; i++) hev[i].start();\n",
    "        for (int i = 0; i < 1000; i++) {\n",
    "            try {hev[i].join();} catch (Exception e) {}\n",
    "        }\n",
    "        long hendTime = System.currentTimeMillis();\n",
    "        System.out.println(hendTime - hstartTime);\n",
    "    }\n",
    "}"
   ]
  },
  {
   "cell_type": "code",
   "execution_count": 5,
   "metadata": {},
   "outputs": [],
   "source": [
    "!javac highfrequencycounter.java"
   ]
  },
  {
   "cell_type": "code",
   "execution_count": 6,
   "metadata": {},
   "outputs": [
    {
     "name": "stdout",
     "output_type": "stream",
     "text": [
      "3379\r\n"
     ]
    }
   ],
   "source": [
    "!java TestHighFrequencyCounter"
   ]
  }
 ],
 "metadata": {
  "kernelspec": {
   "display_name": "Python 3",
   "language": "python",
   "name": "python3"
  },
  "language_info": {
   "codemirror_mode": {
    "name": "ipython",
    "version": 3
   },
   "file_extension": ".py",
   "mimetype": "text/x-python",
   "name": "python",
   "nbconvert_exporter": "python",
   "pygments_lexer": "ipython3",
   "version": "3.8.3"
  }
 },
 "nbformat": 4,
 "nbformat_minor": 2
}
